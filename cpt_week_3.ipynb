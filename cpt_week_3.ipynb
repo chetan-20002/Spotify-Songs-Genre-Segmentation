{
  "nbformat": 4,
  "nbformat_minor": 0,
  "metadata": {
    "colab": {
      "provenance": [],
      "authorship_tag": "ABX9TyN0LxKw73cj78NiNd2S1kFc",
      "include_colab_link": true
    },
    "kernelspec": {
      "name": "python3",
      "display_name": "Python 3"
    },
    "language_info": {
      "name": "python"
    }
  },
  "cells": [
    {
      "cell_type": "markdown",
      "metadata": {
        "id": "view-in-github",
        "colab_type": "text"
      },
      "source": [
        "<a href=\"https://colab.research.google.com/github/chetan-20002/Spotify-Songs-Genre-Segmentation/blob/main/cpt_week_3.ipynb\" target=\"_parent\"><img src=\"https://colab.research.google.com/assets/colab-badge.svg\" alt=\"Open In Colab\"/></a>"
      ]
    },
    {
      "cell_type": "code",
      "source": [
        "char= input(\"press any key :\")\n",
        "if char.isalpha():\n",
        "  print(char,\" is a character\")\n",
        "if char.isdigit():\n",
        "  print(char,\" is a digit\")\n",
        "if char.isspace():\n",
        "  print(char,\" is a space\")"
      ],
      "metadata": {
        "id": "yNi2_5tDLjLw",
        "colab": {
          "base_uri": "https://localhost:8080/"
        },
        "outputId": "2d93e556-ef86-4dd9-a80e-2f21858e5e7f"
      },
      "execution_count": 1,
      "outputs": [
        {
          "output_type": "stream",
          "name": "stdout",
          "text": [
            "press any key :hello\n",
            "hello  is a character\n"
          ]
        }
      ]
    },
    {
      "cell_type": "code",
      "source": [
        "# code to check the number is positive or not\n",
        "num = int(input(\"Enter a number: \"))\n",
        "if num >= 0:\n",
        "  print(num, \"is a Positive \")\n",
        "if num<0:\n",
        "  print(num, \"is a Negative \")\n",
        "if num==0:\n",
        "  print(num, \"is a Zero \")\n"
      ],
      "metadata": {
        "id": "S7EHIY3NNMTh",
        "outputId": "9fbe5682-d8c5-4e7a-e010-2634bcdd4291",
        "colab": {
          "base_uri": "https://localhost:8080/"
        }
      },
      "execution_count": 2,
      "outputs": [
        {
          "output_type": "stream",
          "name": "stdout",
          "text": [
            "Enter a number: 6\n",
            "6 is a Positive \n"
          ]
        }
      ]
    },
    {
      "cell_type": "code",
      "source": [
        "# if-else\n",
        "age = int(input(\"Enter your age of the person: \"))\n",
        "if age >= 18:\n",
        "  print(\"eligible to vote\")\n",
        "else:\n",
        "  print(\"the person is underaged\")"
      ],
      "metadata": {
        "colab": {
          "base_uri": "https://localhost:8080/"
        },
        "id": "jLiTMuqaO1tn",
        "outputId": "987910c1-632f-4fd0-e783-6e71e555010d"
      },
      "execution_count": 3,
      "outputs": [
        {
          "output_type": "stream",
          "name": "stdout",
          "text": [
            "Enter your age of the person: 19\n",
            "eligible to vote\n"
          ]
        }
      ]
    },
    {
      "cell_type": "code",
      "source": [
        "# check the number is a even or odd\n",
        "\n",
        "num = int(input(\"Enter a number: \"))\n",
        "if num % 2 == 0:\n",
        "  print(num, \"is a even number\")\n",
        "else:\n",
        "  print(num, \"is a odd number\")"
      ],
      "metadata": {
        "colab": {
          "base_uri": "https://localhost:8080/"
        },
        "id": "Zg4vi9wvPXzf",
        "outputId": "bbdfbee0-2006-4f59-f292-b977b9629745"
      },
      "execution_count": 5,
      "outputs": [
        {
          "output_type": "stream",
          "name": "stdout",
          "text": [
            "Enter a number: 9\n",
            "9 is a odd number\n"
          ]
        }
      ]
    },
    {
      "cell_type": "code",
      "source": [
        "# program to enter any character . if the entered char is in lowercase  than convert the char into upper and viceversa\n",
        "\n",
        "ch = input(\"enter a char from a to z \")\n",
        "if ch>='A'  and ch<='Z':\n",
        "  ch=ch.lower()\n",
        "  print(\"the entered charachter was in uppercase....lower:\" +ch)\n",
        "else:\n",
        "  ch=ch.upper()\n",
        "  print(\"the entered charachter was in lowercase....upper:\" +ch)\n"
      ],
      "metadata": {
        "colab": {
          "base_uri": "https://localhost:8080/"
        },
        "id": "pP5PvynVQLd_",
        "outputId": "74cb13fb-1111-4425-9e0d-d7619d3f8b40"
      },
      "execution_count": 6,
      "outputs": [
        {
          "output_type": "stream",
          "name": "stdout",
          "text": [
            "enter a char from a to z D\n",
            "the entered charachter was in uppercase....lower:d\n"
          ]
        }
      ]
    },
    {
      "cell_type": "code",
      "source": [
        "# code for checking the interval of a given number\n",
        "\n",
        "num = int(input(\"Enter a number: \"))\n",
        "if num>=0 and num<10:\n",
        "  print(num, \"is in 0-10 range\")\n",
        "elif num>=11 and num<20:\n",
        "  print(num, \"is in 11-20 range\")\n",
        "elif num>=21 and num<30:\n",
        "  print(num, \"is in 21-30 range\")\n",
        "else:\n",
        "  print(\"out of range\")\n"
      ],
      "metadata": {
        "colab": {
          "base_uri": "https://localhost:8080/"
        },
        "id": "ftEmBFRmTUwv",
        "outputId": "4bca0b87-d95c-487d-c48c-00f9b664caf3"
      },
      "execution_count": 8,
      "outputs": [
        {
          "output_type": "stream",
          "name": "stdout",
          "text": [
            "Enter a number: 12\n",
            "12 is in 11-20 range\n"
          ]
        }
      ]
    },
    {
      "cell_type": "code",
      "source": [
        "num = int(input(\"Enter a number: \"))\n",
        "if num>0 :\n",
        "  print(num, \"is +ve\")\n",
        "elif num==0:\n",
        "  print(num, \"is 0\")\n",
        "else:\n",
        "  print(num,\"is -ve\")"
      ],
      "metadata": {
        "colab": {
          "base_uri": "https://localhost:8080/"
        },
        "id": "Yj0qqE7tWtRu",
        "outputId": "e6764fad-ef28-4911-bf3a-edbf2507e03b"
      },
      "execution_count": 12,
      "outputs": [
        {
          "output_type": "stream",
          "name": "stdout",
          "text": [
            "Enter a number: -5\n",
            "-5 is -ve\n"
          ]
        }
      ]
    },
    {
      "cell_type": "code",
      "source": [
        "#loops concepts\n",
        "\n",
        "# simple program for while in python\n",
        "# printing the whole numbers till n\n",
        "\n",
        "\n",
        "n= int(input(\"Enter the value of n\"))\n",
        "loop =0\n",
        "while loop<=n:\n",
        "  print(loop)\n",
        "  loop+=1\n",
        "\n"
      ],
      "metadata": {
        "colab": {
          "base_uri": "https://localhost:8080/"
        },
        "id": "vEQftASxX7Zd",
        "outputId": "cff13c28-1a6c-409a-fff8-a7417802ff59"
      },
      "execution_count": 17,
      "outputs": [
        {
          "output_type": "stream",
          "name": "stdout",
          "text": [
            "Enter the value of n10\n",
            "0\n",
            "1\n",
            "2\n",
            "3\n",
            "4\n",
            "5\n",
            "6\n",
            "7\n",
            "8\n",
            "9\n",
            "10\n"
          ]
        }
      ]
    },
    {
      "cell_type": "code",
      "source": [
        "#loops concepts\n",
        "\n",
        "# simple program for while in python\n",
        "# printing the whole numbers till n\n",
        "\n",
        "\n",
        "n= int(input(\"Enter the value of n\"))\n",
        "loop =0\n",
        "while loop<=n:\n",
        "  print(loop, end='-')\n",
        "  loop+=1\n",
        "\n"
      ],
      "metadata": {
        "colab": {
          "base_uri": "https://localhost:8080/"
        },
        "outputId": "e33d0816-9681-4e5a-c20a-e6795edc6a8b",
        "id": "mGUzA7gvahgW"
      },
      "execution_count": 18,
      "outputs": [
        {
          "output_type": "stream",
          "name": "stdout",
          "text": [
            "Enter the value of n 10\n",
            "0-1-2-3-4-5-6-7-8-9-10-"
          ]
        }
      ]
    },
    {
      "cell_type": "code",
      "source": [
        "#loops concepts\n",
        "\n",
        "# simple program for while in python\n",
        "# printing the whole numbers till n\n",
        "\n",
        "\n",
        "n= int(input(\"Enter the value of n\"))\n",
        "loop =0\n",
        "while loop<=n:\n",
        "  print(loop, end=' ')\n",
        "  loop+=1\n",
        "\n"
      ],
      "metadata": {
        "colab": {
          "base_uri": "https://localhost:8080/"
        },
        "outputId": "f7d607ae-0418-4246-d2c3-7258190ac561",
        "id": "bn46q_ajgSp0"
      },
      "execution_count": 21,
      "outputs": [
        {
          "output_type": "stream",
          "name": "stdout",
          "text": [
            "Enter the value of n 5\n",
            "0 1 2 3 4 5 "
          ]
        }
      ]
    },
    {
      "cell_type": "code",
      "source": [
        "# reverse loop\n",
        "num =int(input(\"enter a value of n\"))\n",
        "while num>=0:\n",
        "  print(num, end=' ')\n",
        "  num-=1"
      ],
      "metadata": {
        "colab": {
          "base_uri": "https://localhost:8080/"
        },
        "id": "UEBAWeTJghZ1",
        "outputId": "faf809de-0058-4af9-8e83-78259611ad6a"
      },
      "execution_count": 23,
      "outputs": [
        {
          "output_type": "stream",
          "name": "stdout",
          "text": [
            "enter a value of n 4\n",
            "4 3 2 1 0 "
          ]
        }
      ]
    },
    {
      "cell_type": "code",
      "source": [
        "#loops concepts\n",
        "\n",
        "# simple program for while in python\n",
        "# printing the whole numbers till n\n",
        "\n",
        "\n",
        "n= int(input(\"Enter the value of n\"))\n",
        "i =0\n",
        "while i<=n:\n",
        "  if i%2 ==1:\n",
        "      print(i, end=' ')\n",
        "  i+=1\n",
        "\n"
      ],
      "metadata": {
        "colab": {
          "base_uri": "https://localhost:8080/"
        },
        "outputId": "c2f5fecf-bb5b-4f45-bf4b-d0b91c14ec28",
        "id": "Gj7wk65ahdTc"
      },
      "execution_count": 25,
      "outputs": [
        {
          "output_type": "stream",
          "name": "stdout",
          "text": [
            "Enter the value of n 11\n",
            "1 3 5 7 9 11 "
          ]
        }
      ]
    },
    {
      "cell_type": "code",
      "source": [
        "n= int(input(\"Enter the value of n\"))\n",
        "i =0\n",
        "while i<=n:\n",
        "  if i%2 !=1:\n",
        "      print(i, end=' ')\n",
        "  i+=1"
      ],
      "metadata": {
        "colab": {
          "base_uri": "https://localhost:8080/"
        },
        "id": "DDIgi5Ymh9ss",
        "outputId": "8df57447-2253-4a40-ff18-dd4ce24b3633"
      },
      "execution_count": 27,
      "outputs": [
        {
          "output_type": "stream",
          "name": "stdout",
          "text": [
            "Enter the value of n 10\n",
            "0 2 4 6 8 10 "
          ]
        }
      ]
    },
    {
      "cell_type": "code",
      "source": [
        " # write a program to read the numbers until  you read -1 is encountered\n",
        " # also count the negiives and positives and zeros\n",
        "\n",
        " n=p=z=0\n",
        " print(\"enter -1 to exit!!!\")\n",
        " while(1\n",
        "       ):\n",
        "  num=int(input(\"Enter any number:\"))\n",
        "  if num==-1:\n",
        "    break\n",
        "  if num==0:\n",
        "    z+=1\n",
        "  elif num>0:\n",
        "    p+=1\n",
        "  else:\n",
        "    n+=1\n",
        "print(\"positive numbers:\",p)\n",
        "print(\"negative numbers:\",n)\n",
        "print(\"zero numbers:\",z)\n",
        "\n",
        "\n",
        "\n",
        "\n"
      ],
      "metadata": {
        "colab": {
          "base_uri": "https://localhost:8080/"
        },
        "id": "vvsSBaGWjJnc",
        "outputId": "3bbbf0cb-77ff-4804-fc82-b4afaa9f8a33"
      },
      "execution_count": 38,
      "outputs": [
        {
          "output_type": "stream",
          "name": "stdout",
          "text": [
            "enter -1 to exit!!!\n",
            "Enter any number:2\n",
            "Enter any number:34\n",
            "Enter any number:45\n",
            "Enter any number:245\n",
            "Enter any number:0\n",
            "Enter any number:78645\n",
            "Enter any number:0\n",
            "Enter any number:89\n",
            "Enter any number:-1\n",
            "positive numbers: 6\n",
            "negative numbers: 0\n",
            "zero numbers: 2\n"
          ]
        }
      ]
    },
    {
      "cell_type": "code",
      "source": [
        "# write a program to convert binary number to decimal number by using a while loop only\n",
        "\n",
        "bnum=int(input(\"enter a binary number\"))\n",
        "dnum=i=0\n",
        "while bnum!=0:\n",
        "    r=bnum%10\n",
        "    dnum=dnum+r*(2**i)\n",
        "    bnum//=10\n",
        "    i+=1\n",
        "print(\"decimal number is:\",dnum)"
      ],
      "metadata": {
        "id": "jUPofFjkn07a",
        "colab": {
          "base_uri": "https://localhost:8080/",
          "height": 211
        },
        "outputId": "27d5c075-a335-45c1-dbc6-d1e57d7b00ce"
      },
      "execution_count": 47,
      "outputs": [
        {
          "output_type": "error",
          "ename": "TypeError",
          "evalue": "'int' object is not callable",
          "traceback": [
            "\u001b[0;31m---------------------------------------------------------------------------\u001b[0m",
            "\u001b[0;31mTypeError\u001b[0m                                 Traceback (most recent call last)",
            "\u001b[0;32m<ipython-input-47-fad08a725ecb>\u001b[0m in \u001b[0;36m<cell line: 0>\u001b[0;34m()\u001b[0m\n\u001b[1;32m      3\u001b[0m \u001b[0;34m\u001b[0m\u001b[0m\n\u001b[1;32m      4\u001b[0m \u001b[0;34m\u001b[0m\u001b[0m\n\u001b[0;32m----> 5\u001b[0;31m \u001b[0mbnum\u001b[0m \u001b[0;34m=\u001b[0m \u001b[0mint\u001b[0m\u001b[0;34m(\u001b[0m\u001b[0minput\u001b[0m\u001b[0;34m(\u001b[0m\u001b[0;34m\"enter a binary number:\"\u001b[0m\u001b[0;34m)\u001b[0m\u001b[0;34m)\u001b[0m\u001b[0;34m\u001b[0m\u001b[0;34m\u001b[0m\u001b[0m\n\u001b[0m\u001b[1;32m      6\u001b[0m \u001b[0mdnum\u001b[0m\u001b[0;34m=\u001b[0m\u001b[0;36m0\u001b[0m\u001b[0;34m\u001b[0m\u001b[0;34m\u001b[0m\u001b[0m\n\u001b[1;32m      7\u001b[0m \u001b[0;32mwhile\u001b[0m \u001b[0mbnum\u001b[0m\u001b[0;34m!=\u001b[0m\u001b[0;36m0\u001b[0m\u001b[0;34m:\u001b[0m\u001b[0;34m\u001b[0m\u001b[0;34m\u001b[0m\u001b[0m\n",
            "\u001b[0;31mTypeError\u001b[0m: 'int' object is not callable"
          ]
        }
      ]
    },
    {
      "cell_type": "code",
      "source": [
        "# write a program to convert binary number to decimal number by using a while loop only\n",
        "\n",
        "# Resetting the input function\n",
        "input = __builtins__.input # Or, for Python 2: input = raw_input\n",
        "\n",
        "bnum = int(input(\"enter a binary number:\")) # Now input() works as expected\n",
        "dnum = 0\n",
        "i = 0  # Initialize i to 0\n",
        "while bnum != 0:\n",
        "    r = bnum % 10\n",
        "    dnum = dnum + r * (2 **i)"
      ],
      "metadata": {
        "colab": {
          "base_uri": "https://localhost:8080/"
        },
        "id": "75SoGx0ZqWri",
        "outputId": "f51a4e30-cf9a-4163-8caf-88427b7a14ee"
      },
      "execution_count": null,
      "outputs": [
        {
          "name": "stdout",
          "output_type": "stream",
          "text": [
            "enter a binary number:1101\n"
          ]
        }
      ]
    },
    {
      "cell_type": "code",
      "source": [
        "print(bin(8))"
      ],
      "metadata": {
        "colab": {
          "base_uri": "https://localhost:8080/"
        },
        "id": "_AOE71I_nvCC",
        "outputId": "964ffd8f-eca2-4c6a-f490-2ea6cddd7791"
      },
      "execution_count": 39,
      "outputs": [
        {
          "output_type": "stream",
          "name": "stdout",
          "text": [
            "0b1000\n"
          ]
        }
      ]
    }
  ]
}